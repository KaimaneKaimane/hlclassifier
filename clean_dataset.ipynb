{
 "cells": [
  {
   "cell_type": "code",
   "execution_count": 1,
   "metadata": {},
   "outputs": [],
   "source": [
    "import os\n",
    "import numpy as np\n",
    "import pandas as pd\n",
    "import re\n",
    "from pathlib import Path"
   ]
  },
  {
   "cell_type": "markdown",
   "metadata": {},
   "source": [
    "# Basic data cleaning\n",
    "Only keep headlines and category for now Remove special characters from headlines and convert to lowercase\n",
    "\n",
    "I also tried to keep short_description for the training but it did not improve the results"
   ]
  },
  {
   "cell_type": "markdown",
   "metadata": {},
   "source": [
    "# Clean and store the News_Category_Dataset_v2 dataset"
   ]
  },
  {
   "cell_type": "code",
   "execution_count": 3,
   "metadata": {},
   "outputs": [],
   "source": [
    "dataset_path = Path.cwd() / Path('dataset/News_Category_Dataset_v2.json')\n",
    "dataset_cleaned_path = Path.cwd() / Path('dataset/cleaned/News_Category_Dataset_v2.csv')\n",
    "\n",
    "df = pd.read_json(dataset_path, lines = True)\n",
    "\n",
    "reduced_df = df.drop(df[df['headline'].str.len() == 0].index, axis=0)\n",
    "\n",
    "reduced_df = reduced_df[['headline', 'category']]\n",
    "\n",
    "cleaned_df = pd.DataFrame(reduced_df)\n",
    "\n",
    "def clean_headline(original_headline):\n",
    "    # remove special characters\n",
    "    cleaned_headline = re.sub(r'\\W', ' ', original_headline)\n",
    "    cleaned_headline = re.sub(r'\\s+', ' ', cleaned_headline)\n",
    "\n",
    "    cleaned_headline = cleaned_headline.lower()\n",
    "    return cleaned_headline\n",
    "\n",
    "cleaned_df['headline'] = reduced_df['headline'].apply(clean_headline)\n",
    "\n",
    "cleaned_df.to_csv(dataset_cleaned_path, index=False)"
   ]
  },
  {
   "cell_type": "markdown",
   "metadata": {},
   "source": [
    "# Clean and store the uci-news-aggregator dataset"
   ]
  },
  {
   "cell_type": "code",
   "execution_count": 2,
   "metadata": {},
   "outputs": [],
   "source": [
    "dataset_csv_path = Path.cwd() / Path('dataset/uci-news-aggregator.csv')\n",
    "dataset_cleaned_path = Path.cwd() / Path('dataset/cleaned/uci-news-aggregator.csv')\n",
    "\n",
    "df = pd.read_csv(dataset_csv_path)\n",
    "reduced_df = pd.DataFrame(df)\n",
    "\n",
    "reduced_df['headline'] = reduced_df['TITLE']\n",
    "reduced_df['category'] = reduced_df['CATEGORY']\n",
    "\n",
    "reduced_df = df.drop(df[df['headline'].str.len() == 0].index, axis=0)\n",
    "\n",
    "reduced_df = reduced_df[['headline', 'category']]\n",
    "\n",
    "\n",
    "cleaned_df = pd.DataFrame(reduced_df)\n",
    "\n",
    "def clean_headline(original_headline):\n",
    "    # remove special character\n",
    "    cleaned_headline = re.sub(r'[^A-Za-z0-9\\s]+', '',  original_headline)\n",
    "    cleaned_headline = re.sub(r'\\s+', ' ', cleaned_headline)\n",
    "    \n",
    "    cleaned_headline = cleaned_headline.lower()\n",
    "    return cleaned_headline\n",
    "\n",
    "cleaned_df['headline'] = reduced_df['headline'].apply(clean_headline)\n",
    "\n",
    "cleaned_df.to_csv(dataset_cleaned_path, index=False)"
   ]
  }
 ],
 "metadata": {
  "kernelspec": {
   "display_name": "Python 3",
   "language": "python",
   "name": "python3"
  },
  "language_info": {
   "codemirror_mode": {
    "name": "ipython",
    "version": 3
   },
   "file_extension": ".py",
   "mimetype": "text/x-python",
   "name": "python",
   "nbconvert_exporter": "python",
   "pygments_lexer": "ipython3",
   "version": "3.6.4"
  }
 },
 "nbformat": 4,
 "nbformat_minor": 1
}
