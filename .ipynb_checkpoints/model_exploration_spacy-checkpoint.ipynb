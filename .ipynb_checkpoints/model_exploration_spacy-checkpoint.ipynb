{
 "cells": [
  {
   "cell_type": "code",
   "execution_count": 22,
   "metadata": {},
   "outputs": [],
   "source": [
    "import pandas as pd\n",
    "import os\n",
    "from pathlib import Path\n",
    "\n",
    "import numpy as np\n",
    "import re\n",
    "import nltk\n",
    "from sklearn.datasets import load_files\n",
    "import pickle\n",
    "\n",
    "\n",
    "from keras.utils import to_categorical\n",
    "from sklearn.model_selection import train_test_split\n",
    "from sklearn import metrics\n",
    "\n",
    "from sklearn.naive_bayes import MultinomialNB\n",
    "from sklearn.linear_model import LogisticRegression\n",
    "from sklearn.ensemble import RandomForestClassifier\n",
    "from sklearn.svm import LinearSVC, SVC\n",
    "from sklearn.model_selection import train_test_split\n",
    "\n",
    "import string\n",
    "import spacy\n",
    "from spacy.lang.en.stop_words import STOP_WORDS\n",
    "from spacy.lang.en import English\n",
    "\n",
    "from sklearn.feature_extraction.text import CountVectorizer,TfidfVectorizer\n",
    "from sklearn.base import TransformerMixin\n",
    "from sklearn.pipeline import Pipeline\n",
    "\n",
    "punctuations = string.punctuation\n",
    "\n",
    "# Load spacy stopwords\n",
    "nlp = spacy.load('en')\n",
    "stop_words = spacy.lang.en.stop_words.STOP_WORDS\n",
    "\n",
    "# Load English tokenizer, tagger, parser, NER and word vectors\n",
    "parser = English()"
   ]
  },
  {
   "cell_type": "code",
   "execution_count": 23,
   "metadata": {},
   "outputs": [],
   "source": [
    "datasets = {}\n",
    "\n",
    "# Load uci\n",
    "dataset_path = Path.cwd() / Path('dataset/cleaned/uci-news-aggregator.csv')\n",
    "datasets['uci'] = pd.read_csv(dataset_path)\n",
    "\n",
    "# Load news_v2\n",
    "dataset_path = Path.cwd() / Path('dataset/cleaned/News_Category_Dataset_v2.csv')\n",
    "datasets['news_v2'] = pd.read_csv(dataset_path)"
   ]
  },
  {
   "cell_type": "markdown",
   "metadata": {},
   "source": [
    "# train, val, test split\n",
    "Split the dataset as specified in the task (80/15/5) "
   ]
  },
  {
   "cell_type": "code",
   "execution_count": 24,
   "metadata": {},
   "outputs": [],
   "source": [
    "def train_val_test_split(features, labels):\n",
    "    x_train, x_test, y_train, y_test = train_test_split(\n",
    "        np.array(features), \n",
    "        np.array(labels), \n",
    "        test_size=0.05, # 5 % test\n",
    "        random_state=42\n",
    "    )\n",
    "\n",
    "    x_train, x_val, y_train, y_val = train_test_split(\n",
    "        np.array(x_train), \n",
    "        np.array(y_train), \n",
    "        test_size=3/19, # this evens out to 80% train 15% validation\n",
    "        random_state=42\n",
    "    )\n",
    "\n",
    "    print('  train:', len(x_train))\n",
    "    print('  val:', len(x_val))\n",
    "    print('  test:', len(x_test))\n",
    "    \n",
    "    return x_train, x_test, x_val, y_val, y_train, y_test"
   ]
  },
  {
   "cell_type": "code",
   "execution_count": 8,
   "metadata": {},
   "outputs": [],
   "source": [
    "# Creating our tokenizer function\n",
    "def spacy_tokenizer(sentence):\n",
    "    mytokens = parser(sentence)\n",
    "\n",
    "    mytokens = [ word.lemma_.lower().strip() if word.lemma_ != \"-PRON-\" else word.lower_ for word in mytokens ]\n",
    "    \n",
    "    mytokens = [ word for word in mytokens if word not in stop_words and word not in punctuations ]\n",
    "\n",
    "    return mytokens"
   ]
  },
  {
   "cell_type": "code",
   "execution_count": 25,
   "metadata": {},
   "outputs": [],
   "source": [
    "# Custom transformer using spaCy\n",
    "class predictors(TransformerMixin):\n",
    "    def transform(self, x, **transform_params):\n",
    "        # Cleaning Text\n",
    "        return [clean_text(text) for text in x]\n",
    "\n",
    "    def fit(self, x, y=None, **fit_params):\n",
    "        return self\n",
    "\n",
    "    def get_params(self, deep=True):\n",
    "        return {}\n",
    "\n",
    "# Basic function to clean the text\n",
    "def clean_text(text):\n",
    "    # Removing spaces and converting text into lowercase\n",
    "    return text.strip().lower()"
   ]
  },
  {
   "cell_type": "markdown",
   "metadata": {},
   "source": [
    "I tested both simple vectorizers for spacy\n",
    "tfidf performed much better"
   ]
  },
  {
   "cell_type": "code",
   "execution_count": 35,
   "metadata": {},
   "outputs": [],
   "source": [
    "def train_model(vectorizer, classifier, x_train,y_train):\n",
    "    # Create spacy pipeline\n",
    "    pipe = Pipeline([\n",
    "        ('cleaner', predictors()),\n",
    "        ('vectorizer', vectorizer),\n",
    "        ('classifier', classifier)\n",
    "    ])\n",
    "\n",
    "    # model generation\n",
    "    pipe.fit(x_train,y_train)\n",
    "    \n",
    "    return pipe"
   ]
  },
  {
   "cell_type": "markdown",
   "metadata": {},
   "source": [
    "# Select classifier & vectorizer"
   ]
  },
  {
   "cell_type": "code",
   "execution_count": 36,
   "metadata": {},
   "outputs": [],
   "source": [
    "# testing simple bow vectorizer\n",
    "bow_vector = CountVectorizer(\n",
    "    tokenizer=spacy_tokenizer, \n",
    "    ngram_range=(1,1)\n",
    ")\n",
    "\n",
    "# testing tfidf vectorizer\n",
    "tfidf_vector = TfidfVectorizer(\n",
    "    tokenizer=spacy_tokenizer,\n",
    "    min_df=3,\n",
    "    ngram_range=(1,5),\n",
    ")\n",
    "\n",
    "#classifier = LogisticRegression()\n",
    "classifier = LinearSVC()\n",
    "#classifier = SVC() # takes too long to train?"
   ]
  },
  {
   "cell_type": "code",
   "execution_count": 37,
   "metadata": {},
   "outputs": [
    {
     "name": "stdout",
     "output_type": "stream",
     "text": [
      "Train Val Test Split uci\n",
      "  train: 337935\n",
      "  val: 63363\n",
      "  test: 21121\n",
      "Train on uci\n",
      "Evaluate Model\n",
      "  Validation Accuracy: 0.9577671511765541\n",
      "  Test Accuracy: 0.9569149188011932\n",
      "\n",
      "Train Val Test Split news_v2\n",
      "  train: 160677\n",
      "  val: 30127\n",
      "  test: 10043\n",
      "Train on news_v2\n",
      "Evaluate Model\n",
      "  Validation Accuracy: 0.5923258206924021\n",
      "  Test Accuracy: 0.5885691526436324\n",
      "\n"
     ]
    }
   ],
   "source": [
    "for dataset_name, dataset in datasets.items():  \n",
    "    features = dataset['headline'] \n",
    "    labels = dataset['category']\n",
    "    \n",
    "    print('Train Val Test Split', dataset_name)   \n",
    "    x_train, x_test, x_val, y_val, y_train, y_test = train_val_test_split(features, labels)\n",
    "    \n",
    "    print('Train on', dataset_name)\n",
    "    model = train_model(tfidf_vector, classifier, x_train, y_train)\n",
    "    \n",
    "    print('Evaluate Model')\n",
    "    # Predicting with a val dataset\n",
    "    predicted = model.predict(x_val)\n",
    "    print('  Validation Accuracy:', metrics.accuracy_score(y_val, predicted))\n",
    "    \n",
    "    # Predicting with a test dataset\n",
    "    predicted = model.predict(x_test)\n",
    "    print('  Test Accuracy:', metrics.accuracy_score(y_test, predicted))\n",
    "    print('')"
   ]
  }
 ],
 "metadata": {
  "kernelspec": {
   "display_name": "Python 3",
   "language": "python",
   "name": "python3"
  },
  "language_info": {
   "codemirror_mode": {
    "name": "ipython",
    "version": 3
   },
   "file_extension": ".py",
   "mimetype": "text/x-python",
   "name": "python",
   "nbconvert_exporter": "python",
   "pygments_lexer": "ipython3",
   "version": "3.6.4"
  }
 },
 "nbformat": 4,
 "nbformat_minor": 4
}
