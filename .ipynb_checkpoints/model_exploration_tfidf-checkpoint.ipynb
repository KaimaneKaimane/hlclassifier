{
 "cells": [
  {
   "cell_type": "code",
   "execution_count": 1,
   "metadata": {},
   "outputs": [],
   "source": [
    "import os\n",
    "import numpy as np\n",
    "import pandas as pd\n",
    "import re\n",
    "\n",
    "from pathlib import Path\n",
    "from sklearn.feature_extraction.text import TfidfVectorizer\n",
    "from sklearn.metrics import accuracy_score\n",
    "from sklearn.model_selection import train_test_split\n",
    "\n",
    "from sklearn.naive_bayes import MultinomialNB\n",
    "from sklearn.linear_model import LogisticRegression\n",
    "from sklearn.ensemble import RandomForestClassifier\n",
    "from sklearn.svm import LinearSVC\n",
    "from sklearn.model_selection import train_test_split"
   ]
  },
  {
   "cell_type": "markdown",
   "metadata": {},
   "source": [
    "# Load cleaned datasets"
   ]
  },
  {
   "cell_type": "code",
   "execution_count": 2,
   "metadata": {
    "scrolled": true
   },
   "outputs": [],
   "source": [
    "datasets = {}\n",
    "\n",
    "# Load uci\n",
    "dataset_path = Path.cwd() / Path('dataset/cleaned/uci-news-aggregator.csv')\n",
    "datasets['uci'] = pd.read_csv(dataset_path)\n",
    "\n",
    "# Load news_v2\n",
    "dataset_path = Path.cwd() / Path('dataset/cleaned/News_Category_Dataset_v2.csv')\n",
    "datasets['news_v2'] = pd.read_csv(dataset_path)"
   ]
  },
  {
   "cell_type": "markdown",
   "metadata": {},
   "source": [
    "Convert categorical labels to integer labels"
   ]
  },
  {
   "cell_type": "code",
   "execution_count": 3,
   "metadata": {},
   "outputs": [],
   "source": [
    "def transform_labels(dataset):\n",
    "    unique_categories = dataset['category'].unique()\n",
    "    numbered_categories = {category_name: category_id for category_id, category_name in enumerate(unique_categories)}\n",
    "\n",
    "    dataset['category'] = dataset['category'].apply(lambda category_name: numbered_categories[category_name])\n",
    "    return dataset"
   ]
  },
  {
   "cell_type": "markdown",
   "metadata": {},
   "source": [
    "# train, val, test split\n",
    "Split the dataset as specified in the task (80/15/5)"
   ]
  },
  {
   "cell_type": "code",
   "execution_count": 4,
   "metadata": {},
   "outputs": [],
   "source": [
    "def train_val_test_split(features, labels):\n",
    "    x_train, x_test, y_train, y_test = train_test_split(\n",
    "        np.array(features), \n",
    "        np.array(labels), \n",
    "        test_size=0.05, # 5 % test\n",
    "        random_state=42\n",
    "    )\n",
    "\n",
    "    x_train, x_val, y_train, y_val = train_test_split(\n",
    "        np.array(x_train), \n",
    "        np.array(y_train), \n",
    "        test_size=3/19, # this evens out to 80% train 15% validation\n",
    "        random_state=42\n",
    "    )\n",
    "\n",
    "    print('  train:', len(x_train))\n",
    "    print('  val:', len(x_val))\n",
    "    print('  test:', len(x_test))\n",
    "    \n",
    "    return x_train, x_test, x_val, y_val, y_train, y_test"
   ]
  },
  {
   "cell_type": "markdown",
   "metadata": {},
   "source": [
    "Fit a vectorizer to see if a simple tfidf solution is enough to get a good result already"
   ]
  },
  {
   "cell_type": "code",
   "execution_count": 5,
   "metadata": {},
   "outputs": [],
   "source": [
    "def fit_vectorizer(x_train, y_train):\n",
    "    tfidf = TfidfVectorizer(\n",
    "        sublinear_tf=True, \n",
    "        min_df=5,\n",
    "        ngram_range=(1, 3),\n",
    "        stop_words='english'\n",
    "    )\n",
    "\n",
    "    features = tfidf.fit_transform(x_train).toarray()\n",
    "    labels = y_train\n",
    "    \n",
    "    return features, labels, tfidf"
   ]
  },
  {
   "cell_type": "markdown",
   "metadata": {},
   "source": [
    "Test some classifiers on the validation set"
   ]
  },
  {
   "cell_type": "code",
   "execution_count": 6,
   "metadata": {},
   "outputs": [],
   "source": [
    "def train_model(model_type, features, labels):\n",
    "    clf = model_type.fit(features, labels)\n",
    "    return clf"
   ]
  },
  {
   "cell_type": "markdown",
   "metadata": {},
   "source": [
    "Also additionally reduce the number of samples to 70000 as the 16GB I have availble on my machine are not enough for more data"
   ]
  },
  {
   "cell_type": "code",
   "execution_count": 9,
   "metadata": {},
   "outputs": [
    {
     "name": "stdout",
     "output_type": "stream",
     "text": [
      "Using dataset uci\n",
      "  train: 56000\n",
      "  val: 10500\n",
      "  test: 3500\n",
      "Training RandomForestClassifier\n",
      "  Predicting...\n",
      "    Validation Accuracy 0.5144761904761905\n",
      "    Test Accuracy 0.5031428571428571\n",
      "Training LinearSVC\n",
      "  Predicting...\n",
      "    Validation Accuracy 0.9244761904761905\n",
      "    Test Accuracy 0.9251428571428572\n",
      "Training MultinomialNB\n",
      "  Predicting...\n",
      "    Validation Accuracy 0.91\n",
      "    Test Accuracy 0.9137142857142857\n",
      "Training LogisticRegression\n"
     ]
    },
    {
     "name": "stderr",
     "output_type": "stream",
     "text": [
      "c:\\users\\kaimane\\appdata\\local\\programs\\python\\python36\\lib\\site-packages\\sklearn\\linear_model\\_logistic.py:940: ConvergenceWarning: lbfgs failed to converge (status=1):\n",
      "STOP: TOTAL NO. of ITERATIONS REACHED LIMIT.\n",
      "\n",
      "Increase the number of iterations (max_iter) or scale the data as shown in:\n",
      "    https://scikit-learn.org/stable/modules/preprocessing.html\n",
      "Please also refer to the documentation for alternative solver options:\n",
      "    https://scikit-learn.org/stable/modules/linear_model.html#logistic-regression\n",
      "  extra_warning_msg=_LOGISTIC_SOLVER_CONVERGENCE_MSG)\n"
     ]
    },
    {
     "name": "stdout",
     "output_type": "stream",
     "text": [
      "  Predicting...\n",
      "    Validation Accuracy 0.917047619047619\n",
      "    Test Accuracy 0.9202857142857143\n",
      "\n",
      "Using dataset news_v2\n",
      "  train: 56000\n",
      "  val: 10500\n",
      "  test: 3500\n",
      "Training RandomForestClassifier\n",
      "  Predicting...\n",
      "    Validation Accuracy 0.1921904761904762\n",
      "    Test Accuracy 0.19428571428571428\n",
      "Training LinearSVC\n",
      "  Predicting...\n",
      "    Validation Accuracy 0.5414285714285715\n",
      "    Test Accuracy 0.538\n",
      "Training MultinomialNB\n",
      "  Predicting...\n",
      "    Validation Accuracy 0.4389523809523809\n",
      "    Test Accuracy 0.43714285714285717\n",
      "Training LogisticRegression\n"
     ]
    },
    {
     "name": "stderr",
     "output_type": "stream",
     "text": [
      "c:\\users\\kaimane\\appdata\\local\\programs\\python\\python36\\lib\\site-packages\\sklearn\\linear_model\\_logistic.py:940: ConvergenceWarning: lbfgs failed to converge (status=1):\n",
      "STOP: TOTAL NO. of ITERATIONS REACHED LIMIT.\n",
      "\n",
      "Increase the number of iterations (max_iter) or scale the data as shown in:\n",
      "    https://scikit-learn.org/stable/modules/preprocessing.html\n",
      "Please also refer to the documentation for alternative solver options:\n",
      "    https://scikit-learn.org/stable/modules/linear_model.html#logistic-regression\n",
      "  extra_warning_msg=_LOGISTIC_SOLVER_CONVERGENCE_MSG)\n"
     ]
    },
    {
     "name": "stdout",
     "output_type": "stream",
     "text": [
      "  Predicting...\n",
      "    Validation Accuracy 0.5402857142857143\n",
      "    Test Accuracy 0.5345714285714286\n",
      "\n"
     ]
    }
   ],
   "source": [
    "for dataset_name, dataset in datasets.items(): \n",
    "    print('Using dataset', dataset_name)\n",
    "    \n",
    "    # Had to limit the data due to my limited memory\n",
    "    dataset = transform_labels(dataset)\n",
    "    dataset = dataset.sample(70000, random_state=42)\n",
    "    \n",
    "    features = dataset['headline'] \n",
    "    labels = dataset['category']\n",
    "    \n",
    "    x_train, x_test, x_val, y_val, y_train, y_test = train_val_test_split(features, labels)\n",
    "    \n",
    "    x_train, y_train, tfidf = fit_vectorizer(x_train, y_train)\n",
    "    \n",
    "    models = [\n",
    "        RandomForestClassifier(n_estimators=10, max_depth=10, random_state=0),\n",
    "        LinearSVC(),\n",
    "        MultinomialNB(),\n",
    "        LogisticRegression(),\n",
    "    ]\n",
    "\n",
    "    for model_type in models:\n",
    "        model_name = model_type.__class__.__name__\n",
    "        \n",
    "        print('Training', model_name)\n",
    "        model = train_model(model_type, x_train, y_train)\n",
    "\n",
    "        print('  Predicting...')\n",
    "        y_pred = model.predict(tfidf.transform(x_val))\n",
    "        model_accuracy = accuracy_score(y_val, y_pred)\n",
    "        print('    Validation Accuracy', model_accuracy)\n",
    "\n",
    "        y_pred = model.predict(tfidf.transform(x_test))\n",
    "        model_accuracy = accuracy_score(y_test, y_pred)\n",
    "        print('    Test Accuracy', model_accuracy)\n",
    "    print('')\n",
    "    "
   ]
  }
 ],
 "metadata": {
  "kernelspec": {
   "display_name": "Python 3",
   "language": "python",
   "name": "python3"
  },
  "language_info": {
   "codemirror_mode": {
    "name": "ipython",
    "version": 3
   },
   "file_extension": ".py",
   "mimetype": "text/x-python",
   "name": "python",
   "nbconvert_exporter": "python",
   "pygments_lexer": "ipython3",
   "version": "3.6.4"
  }
 },
 "nbformat": 4,
 "nbformat_minor": 4
}
