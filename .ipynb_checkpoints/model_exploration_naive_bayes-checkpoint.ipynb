{
 "cells": [
  {
   "cell_type": "code",
   "execution_count": 18,
   "metadata": {},
   "outputs": [],
   "source": [
    "import os\n",
    "import numpy as np\n",
    "import pandas as pd\n",
    "import matplotlib.pyplot as plt\n",
    "import re\n",
    "from pathlib import Path\n",
    "\n",
    "from sklearn.naive_bayes import MultinomialNB\n",
    "from sklearn.model_selection import train_test_split\n",
    "from sklearn.feature_extraction.text import CountVectorizer\n",
    "from sklearn.feature_extraction.text import TfidfTransformer\n",
    "from sklearn.pipeline import Pipeline\n",
    "from sklearn.preprocessing import LabelEncoder\n",
    "\n",
    "from sklearn.metrics import accuracy_score\n",
    "import matplotlib.pyplot as plt\n",
    "import spacy\n",
    "import string\n"
   ]
  },
  {
   "cell_type": "code",
   "execution_count": 4,
   "metadata": {},
   "outputs": [
    {
     "data": {
      "text/html": [
       "<div>\n",
       "<style scoped>\n",
       "    .dataframe tbody tr th:only-of-type {\n",
       "        vertical-align: middle;\n",
       "    }\n",
       "\n",
       "    .dataframe tbody tr th {\n",
       "        vertical-align: top;\n",
       "    }\n",
       "\n",
       "    .dataframe thead th {\n",
       "        text-align: right;\n",
       "    }\n",
       "</style>\n",
       "<table border=\"1\" class=\"dataframe\">\n",
       "  <thead>\n",
       "    <tr style=\"text-align: right;\">\n",
       "      <th></th>\n",
       "      <th>headline</th>\n",
       "      <th>category</th>\n",
       "    </tr>\n",
       "  </thead>\n",
       "  <tbody>\n",
       "    <tr>\n",
       "      <th>0</th>\n",
       "      <td>there were 2 mass shootings in texas last week...</td>\n",
       "      <td>CRIME</td>\n",
       "    </tr>\n",
       "    <tr>\n",
       "      <th>1</th>\n",
       "      <td>will smith joins diplo and nicky jam for the 2...</td>\n",
       "      <td>ENTERTAINMENT</td>\n",
       "    </tr>\n",
       "    <tr>\n",
       "      <th>2</th>\n",
       "      <td>hugh grant marries for the first time at age 57</td>\n",
       "      <td>ENTERTAINMENT</td>\n",
       "    </tr>\n",
       "    <tr>\n",
       "      <th>3</th>\n",
       "      <td>jim carrey blasts 'castrato' adam schiff and d...</td>\n",
       "      <td>ENTERTAINMENT</td>\n",
       "    </tr>\n",
       "    <tr>\n",
       "      <th>4</th>\n",
       "      <td>julianna margulies uses donald trump poop bags...</td>\n",
       "      <td>ENTERTAINMENT</td>\n",
       "    </tr>\n",
       "  </tbody>\n",
       "</table>\n",
       "</div>"
      ],
      "text/plain": [
       "                                            headline       category\n",
       "0  there were 2 mass shootings in texas last week...          CRIME\n",
       "1  will smith joins diplo and nicky jam for the 2...  ENTERTAINMENT\n",
       "2    hugh grant marries for the first time at age 57  ENTERTAINMENT\n",
       "3  jim carrey blasts 'castrato' adam schiff and d...  ENTERTAINMENT\n",
       "4  julianna margulies uses donald trump poop bags...  ENTERTAINMENT"
      ]
     },
     "execution_count": 4,
     "metadata": {},
     "output_type": "execute_result"
    }
   ],
   "source": [
    "dataset_path = Path.cwd() / Path('dataset/News_Category_Dataset_v2.json')\n",
    "df = pd.read_json(dataset_path, lines = True)\n",
    "\n",
    "reduced_df = df.drop(df[df['headline'].str.len() == 0].index, axis=0)\n",
    "\n",
    "reduced_df = reduced_df[['headline', 'category']]\n",
    "\n",
    "cleaned_df = pd.DataFrame(reduced_df)\n",
    "\n",
    "def clean_headline(original_headline):\n",
    "    # remove special characters\n",
    "    cleaned_headline = re.sub(r'\\W', ' ', original_headline)\n",
    "    cleaned_headline = re.sub(r'\\s+', ' ', original_headline)\n",
    "\n",
    "    cleaned_headline = cleaned_headline.lower()\n",
    "    return cleaned_headline\n",
    "\n",
    "cleaned_df['headline'] = reduced_df['headline'].apply(clean_headline)\n",
    "\n",
    "cleaned_df.head()"
   ]
  },
  {
   "cell_type": "code",
   "execution_count": 5,
   "metadata": {},
   "outputs": [],
   "source": [
    "# pull the data into vectors\n",
    "encoder = LabelEncoder()\n",
    "\n",
    "x = cleaned_df['headline']\n",
    "y = encoder.fit_transform(cleaned_df['category'])"
   ]
  },
  {
   "cell_type": "code",
   "execution_count": 8,
   "metadata": {},
   "outputs": [
    {
     "name": "stdout",
     "output_type": "stream",
     "text": [
      "train: 160677\n",
      "val: 30127\n",
      "test: 10043\n"
     ]
    }
   ],
   "source": [
    "sample = cleaned_df\n",
    "\n",
    "\n",
    "from sklearn.model_selection import train_test_split\n",
    "x_train, x_test, y_train, y_test = train_test_split(\n",
    "    np.array(x), \n",
    "    np.array(y), \n",
    "    test_size=0.05, # seperate 5 % test\n",
    "    random_state=42\n",
    ")\n",
    "\n",
    "x_train, x_val, y_train, y_val = train_test_split(\n",
    "    np.array(x_train), \n",
    "    np.array(y_train), \n",
    "    test_size=3/19, # this evens out to 80% train 15% validation\n",
    "    random_state=42\n",
    ")\n",
    "\n",
    "print('train:', len(x_train))\n",
    "print('val:', len(x_val))\n",
    "print('test:', len(x_test))"
   ]
  },
  {
   "cell_type": "code",
   "execution_count": 12,
   "metadata": {},
   "outputs": [],
   "source": [
    "vectorizer = Pipeline([\n",
    "    ('count', CountVectorizer(min_df=5, binary=False, ngram_range=(1,5), stop_words='english')),\n",
    "    ('tfid', TfidfTransformer())]).fit(x_train)\n",
    "\n",
    "\n",
    "x_train_vec = vectorizer.transform(x_train)\n",
    "x_val_vec = vectorizer.transform(x_val)"
   ]
  },
  {
   "cell_type": "code",
   "execution_count": 28,
   "metadata": {},
   "outputs": [
    {
     "name": "stdout",
     "output_type": "stream",
     "text": [
      "validation accuracy: 0.5481793739834699\n"
     ]
    }
   ],
   "source": [
    "nb = MultinomialNB(alpha=0.1)\n",
    "nb.fit(x_train_vec, y_train)\n",
    "\n",
    "predict = nb.predict(x_val_vec)\n",
    "\n",
    "print('validation accuracy:', accuracy_score(y_val, predict))"
   ]
  },
  {
   "cell_type": "code",
   "execution_count": 29,
   "metadata": {},
   "outputs": [
    {
     "name": "stdout",
     "output_type": "stream",
     "text": [
      "test accuracy: 0.5579010255899631\n"
     ]
    }
   ],
   "source": [
    "x_test_vec = vectorizer.transform(x_test)\n",
    "\n",
    "predict = nb.predict(x_test_vec)\n",
    "\n",
    "print('test accuracy:', accuracy_score(y_test, predict))"
   ]
  }
 ],
 "metadata": {
  "kernelspec": {
   "display_name": "Python 3",
   "language": "python",
   "name": "python3"
  },
  "language_info": {
   "codemirror_mode": {
    "name": "ipython",
    "version": 3
   },
   "file_extension": ".py",
   "mimetype": "text/x-python",
   "name": "python",
   "nbconvert_exporter": "python",
   "pygments_lexer": "ipython3",
   "version": "3.6.4"
  }
 },
 "nbformat": 4,
 "nbformat_minor": 4
}
