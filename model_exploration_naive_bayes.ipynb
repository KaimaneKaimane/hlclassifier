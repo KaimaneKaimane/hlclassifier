{
 "cells": [
  {
   "cell_type": "code",
   "execution_count": 1,
   "metadata": {},
   "outputs": [],
   "source": [
    "import os\n",
    "import numpy as np\n",
    "import pandas as pd\n",
    "import matplotlib.pyplot as plt\n",
    "import re\n",
    "from pathlib import Path\n",
    "\n",
    "from sklearn.naive_bayes import MultinomialNB\n",
    "from sklearn.model_selection import train_test_split\n",
    "from sklearn.feature_extraction.text import CountVectorizer\n",
    "from sklearn.feature_extraction.text import TfidfTransformer\n",
    "from sklearn.pipeline import Pipeline\n",
    "from sklearn.preprocessing import LabelEncoder\n",
    "from sklearn.model_selection import train_test_split\n",
    "\n",
    "from sklearn.metrics import accuracy_score"
   ]
  },
  {
   "cell_type": "code",
   "execution_count": 2,
   "metadata": {},
   "outputs": [],
   "source": [
    "datasets = {}\n",
    "\n",
    "# Load uci\n",
    "dataset_path = Path.cwd() / Path('dataset/cleaned/uci-news-aggregator.csv')\n",
    "datasets['uci'] = pd.read_csv(dataset_path)\n",
    "\n",
    "# Load news_v2\n",
    "dataset_path = Path.cwd() / Path('dataset/cleaned/News_Category_Dataset_v2.csv')\n",
    "datasets['news_v2'] = pd.read_csv(dataset_path)"
   ]
  },
  {
   "cell_type": "code",
   "execution_count": 3,
   "metadata": {},
   "outputs": [],
   "source": [
    "# pull the data into vectors\n",
    "def encode_labels(dataset):\n",
    "    encoder = LabelEncoder()\n",
    "\n",
    "    x = dataset['headline']\n",
    "    y = encoder.fit_transform(dataset['category'])\n",
    "    \n",
    "    return x, y"
   ]
  },
  {
   "cell_type": "code",
   "execution_count": 4,
   "metadata": {},
   "outputs": [],
   "source": [
    "def train_val_test_split(features, labels):\n",
    "    x_train, x_test, y_train, y_test = train_test_split(\n",
    "        np.array(features), \n",
    "        np.array(labels), \n",
    "        test_size=0.05, # 5 % test\n",
    "        random_state=42\n",
    "    )\n",
    "\n",
    "    x_train, x_val, y_train, y_val = train_test_split(\n",
    "        np.array(x_train), \n",
    "        np.array(y_train), \n",
    "        test_size=3/19, # this evens out to 80% train 15% validation\n",
    "        random_state=42\n",
    "    )\n",
    "\n",
    "    print('  train:', len(x_train))\n",
    "    print('  val:', len(x_val))\n",
    "    print('  test:', len(x_test))\n",
    "    \n",
    "    return x_train, x_test, x_val, y_val, y_train, y_test"
   ]
  },
  {
   "cell_type": "code",
   "execution_count": 5,
   "metadata": {},
   "outputs": [],
   "source": [
    "def fit_vectorizer(training_data):\n",
    "    vectorizer = Pipeline([\n",
    "        ('count', CountVectorizer(min_df=5, binary=False, ngram_range=(1,5), stop_words='english')),\n",
    "        ('tfid', TfidfTransformer())\n",
    "    ]).fit(training_data)\n",
    "    return vectorizer\n",
    "\n",
    "def transform_input(vectorizer, x_train, x_val, x_test):\n",
    "    x_train_vec = vectorizer.transform(x_train)\n",
    "    x_val_vec = vectorizer.transform(x_val)\n",
    "    x_test_vec = vectorizer.transform(x_test)\n",
    "    \n",
    "    return x_train_vec, x_val_vec, x_test_vec"
   ]
  },
  {
   "cell_type": "code",
   "execution_count": 6,
   "metadata": {},
   "outputs": [],
   "source": [
    "def train_model(x_train_vec, y_train):\n",
    "    nb = MultinomialNB(alpha=0.1)\n",
    "    nb.fit(x_train_vec, y_train)\n",
    "    return nb"
   ]
  },
  {
   "cell_type": "code",
   "execution_count": 7,
   "metadata": {},
   "outputs": [
    {
     "name": "stdout",
     "output_type": "stream",
     "text": [
      "Train Val Test Split uci\n",
      "  train: 337935\n",
      "  val: 63363\n",
      "  test: 21121\n",
      "Train on uci\n",
      "Evaluate Model\n",
      "  Validation Accuracy: 0.9456780771112479\n",
      "  Test Accuracy: 0.943752663226173\n",
      "\n",
      "Train Val Test Split news_v2\n",
      "  train: 160677\n",
      "  val: 30127\n",
      "  test: 10043\n",
      "Train on news_v2\n",
      "Evaluate Model\n",
      "  Validation Accuracy: 0.5481793739834699\n",
      "  Test Accuracy: 0.5579010255899631\n",
      "\n"
     ]
    }
   ],
   "source": [
    "for dataset_name, dataset in datasets.items():   \n",
    "    print('Train Val Test Split', dataset_name)\n",
    "    features, labels = encode_labels(dataset)\n",
    "    x_train, x_test, x_val, y_val, y_train, y_test = train_val_test_split(features, labels)\n",
    "    \n",
    "    print('Train on', dataset_name)\n",
    "    vectorizer = fit_vectorizer(x_train)\n",
    "    x_train_vec, x_val_vec, x_test_vec = transform_input(vectorizer, x_train, x_val, x_test)\n",
    "    nb = train_model(x_train_vec, y_train)\n",
    "    \n",
    "    print('Evaluate Model')\n",
    "    predict = nb.predict(x_val_vec)\n",
    "    print('  Validation Accuracy:', accuracy_score(y_val, predict))\n",
    "    \n",
    "    predict = nb.predict(x_test_vec)\n",
    "    print('  Test Accuracy:', accuracy_score(y_test, predict))\n",
    "    print('')"
   ]
  }
 ],
 "metadata": {
  "kernelspec": {
   "display_name": "Python 3",
   "language": "python",
   "name": "python3"
  },
  "language_info": {
   "codemirror_mode": {
    "name": "ipython",
    "version": 3
   },
   "file_extension": ".py",
   "mimetype": "text/x-python",
   "name": "python",
   "nbconvert_exporter": "python",
   "pygments_lexer": "ipython3",
   "version": "3.6.4"
  }
 },
 "nbformat": 4,
 "nbformat_minor": 4
}
